{
 "cells": [
  {
   "cell_type": "code",
   "execution_count": 6,
   "id": "650f94ee-644a-4b28-bdfa-b3a19885dede",
   "metadata": {},
   "outputs": [],
   "source": [
    "import requests as rq\n",
    "import json\n",
    "import pandas as pd\n",
    "import numpy as np\n",
    "import matplotlib.pyplot as plt "
   ]
  },
  {
   "cell_type": "code",
   "execution_count": 7,
   "id": "ebbee2e9-aa90-414b-a202-2bdb583c23bd",
   "metadata": {},
   "outputs": [],
   "source": [
    "from mp_api.client import MPRester"
   ]
  },
  {
   "cell_type": "code",
   "execution_count": 11,
   "id": "d82c267c-471c-47e1-a1ef-f42e35b7f0a7",
   "metadata": {},
   "outputs": [],
   "source": [
    "api_Hamza_Um5 =\"AmUFzy39MUlygjM7R6kFvjwcxcvsSbFY\""
   ]
  },
  {
   "cell_type": "code",
   "execution_count": 12,
   "id": "fe18e73f-794d-42ad-8971-3f97218474ed",
   "metadata": {},
   "outputs": [
    {
     "data": {
      "application/vnd.jupyter.widget-view+json": {
       "model_id": "a91c31698f0d41e1b090d529be5b3593",
       "version_major": 2,
       "version_minor": 0
      },
      "text/plain": [
       "Retrieving SummaryDoc documents:   0%|          | 0/1840 [00:00<?, ?it/s]"
      ]
     },
     "metadata": {},
     "output_type": "display_data"
    }
   ],
   "source": [
    "from mp_api.client import MPRester\n",
    "\n",
    "\n",
    "with MPRester(api_key=api_Hamza_Um5) as mpr:\n",
    "    docs = mpr.summary.search(\n",
    "        elements=[\"H\"],\n",
    "        is_stable=True,\n",
    "        fields=[\n",
    "            \"formula_pretty\",\n",
    "            \"formation_energy_per_atom\",\n",
    "            \"volume\",\n",
    "            \"nelements\",\n",
    "            'band_gap', \n",
    "                ],\n",
    "                            )\n"
   ]
  },
  {
   "cell_type": "code",
   "execution_count": null,
   "id": "2e0d29d2-84be-4b0b-9458-69d962ebbf0c",
   "metadata": {},
   "outputs": [],
   "source": []
  },
  {
   "cell_type": "code",
   "execution_count": 13,
   "id": "529a1514-7f1f-4110-849c-7660d0e37038",
   "metadata": {},
   "outputs": [],
   "source": [
    "def organization_function(data):\n",
    "    data=data\n",
    "    df = pd.DataFrame(data)\n",
    "    df=df.T\n",
    "    df.drop(0, axis=0,inplace=True)\n",
    "    return df \n"
   ]
  },
  {
   "cell_type": "code",
   "execution_count": 14,
   "id": "d54f60dd-0c39-4cf3-a86c-d91691c31924",
   "metadata": {},
   "outputs": [],
   "source": [
    "df_i_1=organization_function(docs[0])\n",
    "for i in range(1,len(docs)):\n",
    "    df_i=organization_function(docs[i])\n",
    "    data=pd.concat([df_i_1,df_i])\n",
    "    df_i_1=data\n",
    "df= data.rename(columns={0:\"nelements\",1:\"formula_pretty\",2:\"volume\",3:\"formation_energy_per_atom\" ,4:\"band_gap\",5:\"fields_not_requested\"})"
   ]
  },
  {
   "cell_type": "code",
   "execution_count": 7,
   "id": "d0f085cc-4204-45f0-b8e0-a095a990a435",
   "metadata": {},
   "outputs": [],
   "source": [
    "df.drop([\"fields_not_requested\"],axis=1,inplace=True)"
   ]
  },
  {
   "cell_type": "code",
   "execution_count": 8,
   "id": "8ab6165e-5b52-40b5-99e7-438eb3c58d06",
   "metadata": {},
   "outputs": [],
   "source": [
    "df.to_csv(\"HydroMetalMix_MP_data.csv\")"
   ]
  },
  {
   "cell_type": "code",
   "execution_count": 2,
   "id": "094d0b71-f9bb-4ebe-87e3-6a8ccc674524",
   "metadata": {},
   "outputs": [],
   "source": [
    "dl=pd.read_csv(\"HydroMetalMix_MP_data.csv\")"
   ]
  },
  {
   "cell_type": "code",
   "execution_count": 3,
   "id": "1d4a75ca-b59f-4529-ac3c-7ae3bda74343",
   "metadata": {},
   "outputs": [
    {
     "data": {
      "text/html": [
       "<div>\n",
       "<style scoped>\n",
       "    .dataframe tbody tr th:only-of-type {\n",
       "        vertical-align: middle;\n",
       "    }\n",
       "\n",
       "    .dataframe tbody tr th {\n",
       "        vertical-align: top;\n",
       "    }\n",
       "\n",
       "    .dataframe thead th {\n",
       "        text-align: right;\n",
       "    }\n",
       "</style>\n",
       "<table border=\"1\" class=\"dataframe\">\n",
       "  <thead>\n",
       "    <tr style=\"text-align: right;\">\n",
       "      <th></th>\n",
       "      <th>Unnamed: 0.1</th>\n",
       "      <th>Unnamed: 0</th>\n",
       "      <th>nelements</th>\n",
       "      <th>formula_pretty</th>\n",
       "      <th>volume</th>\n",
       "      <th>formation_energy_per_atom</th>\n",
       "      <th>band_gap</th>\n",
       "    </tr>\n",
       "  </thead>\n",
       "  <tbody>\n",
       "    <tr>\n",
       "      <th>0</th>\n",
       "      <td>0</td>\n",
       "      <td>1</td>\n",
       "      <td>5</td>\n",
       "      <td>RbB2P2HO9</td>\n",
       "      <td>749.158897</td>\n",
       "      <td>-2.620124</td>\n",
       "      <td>5.7824</td>\n",
       "    </tr>\n",
       "    <tr>\n",
       "      <th>1</th>\n",
       "      <td>1</td>\n",
       "      <td>1</td>\n",
       "      <td>4</td>\n",
       "      <td>MgHOF</td>\n",
       "      <td>151.014639</td>\n",
       "      <td>-2.705992</td>\n",
       "      <td>4.7269</td>\n",
       "    </tr>\n",
       "    <tr>\n",
       "      <th>2</th>\n",
       "      <td>2</td>\n",
       "      <td>1</td>\n",
       "      <td>4</td>\n",
       "      <td>K2Sn(H2N)6</td>\n",
       "      <td>248.486491</td>\n",
       "      <td>-0.411971</td>\n",
       "      <td>2.4109</td>\n",
       "    </tr>\n",
       "    <tr>\n",
       "      <th>3</th>\n",
       "      <td>3</td>\n",
       "      <td>1</td>\n",
       "      <td>3</td>\n",
       "      <td>Ti20H2N17</td>\n",
       "      <td>379.154163</td>\n",
       "      <td>-1.743870</td>\n",
       "      <td>0.0000</td>\n",
       "    </tr>\n",
       "    <tr>\n",
       "      <th>4</th>\n",
       "      <td>4</td>\n",
       "      <td>1</td>\n",
       "      <td>5</td>\n",
       "      <td>K2BAs2HO8</td>\n",
       "      <td>847.155846</td>\n",
       "      <td>-2.047273</td>\n",
       "      <td>3.7037</td>\n",
       "    </tr>\n",
       "    <tr>\n",
       "      <th>...</th>\n",
       "      <td>...</td>\n",
       "      <td>...</td>\n",
       "      <td>...</td>\n",
       "      <td>...</td>\n",
       "      <td>...</td>\n",
       "      <td>...</td>\n",
       "      <td>...</td>\n",
       "    </tr>\n",
       "    <tr>\n",
       "      <th>1835</th>\n",
       "      <td>1835</td>\n",
       "      <td>1</td>\n",
       "      <td>3</td>\n",
       "      <td>Rb2ZnH4</td>\n",
       "      <td>516.855246</td>\n",
       "      <td>-0.325154</td>\n",
       "      <td>4.0139</td>\n",
       "    </tr>\n",
       "    <tr>\n",
       "      <th>1836</th>\n",
       "      <td>1836</td>\n",
       "      <td>1</td>\n",
       "      <td>5</td>\n",
       "      <td>LiFeHSO5</td>\n",
       "      <td>387.260101</td>\n",
       "      <td>-1.916118</td>\n",
       "      <td>3.6749</td>\n",
       "    </tr>\n",
       "    <tr>\n",
       "      <th>1837</th>\n",
       "      <td>1837</td>\n",
       "      <td>1</td>\n",
       "      <td>3</td>\n",
       "      <td>LiHO</td>\n",
       "      <td>52.045773</td>\n",
       "      <td>-1.780150</td>\n",
       "      <td>4.0057</td>\n",
       "    </tr>\n",
       "    <tr>\n",
       "      <th>1838</th>\n",
       "      <td>1838</td>\n",
       "      <td>1</td>\n",
       "      <td>5</td>\n",
       "      <td>AlH18C3(N3F2)3</td>\n",
       "      <td>2790.189841</td>\n",
       "      <td>-1.076118</td>\n",
       "      <td>5.3017</td>\n",
       "    </tr>\n",
       "    <tr>\n",
       "      <th>1839</th>\n",
       "      <td>1839</td>\n",
       "      <td>1</td>\n",
       "      <td>3</td>\n",
       "      <td>NaH8O5</td>\n",
       "      <td>441.628361</td>\n",
       "      <td>-1.307619</td>\n",
       "      <td>5.1565</td>\n",
       "    </tr>\n",
       "  </tbody>\n",
       "</table>\n",
       "<p>1840 rows × 7 columns</p>\n",
       "</div>"
      ],
      "text/plain": [
       "      Unnamed: 0.1  Unnamed: 0  nelements  formula_pretty       volume  \\\n",
       "0                0           1          5       RbB2P2HO9   749.158897   \n",
       "1                1           1          4           MgHOF   151.014639   \n",
       "2                2           1          4      K2Sn(H2N)6   248.486491   \n",
       "3                3           1          3       Ti20H2N17   379.154163   \n",
       "4                4           1          5       K2BAs2HO8   847.155846   \n",
       "...            ...         ...        ...             ...          ...   \n",
       "1835          1835           1          3         Rb2ZnH4   516.855246   \n",
       "1836          1836           1          5        LiFeHSO5   387.260101   \n",
       "1837          1837           1          3            LiHO    52.045773   \n",
       "1838          1838           1          5  AlH18C3(N3F2)3  2790.189841   \n",
       "1839          1839           1          3          NaH8O5   441.628361   \n",
       "\n",
       "      formation_energy_per_atom  band_gap  \n",
       "0                     -2.620124    5.7824  \n",
       "1                     -2.705992    4.7269  \n",
       "2                     -0.411971    2.4109  \n",
       "3                     -1.743870    0.0000  \n",
       "4                     -2.047273    3.7037  \n",
       "...                         ...       ...  \n",
       "1835                  -0.325154    4.0139  \n",
       "1836                  -1.916118    3.6749  \n",
       "1837                  -1.780150    4.0057  \n",
       "1838                  -1.076118    5.3017  \n",
       "1839                  -1.307619    5.1565  \n",
       "\n",
       "[1840 rows x 7 columns]"
      ]
     },
     "execution_count": 3,
     "metadata": {},
     "output_type": "execute_result"
    }
   ],
   "source": [
    "dl"
   ]
  },
  {
   "cell_type": "code",
   "execution_count": 4,
   "id": "c071d8f2-157c-4d72-bac0-07a98cf27936",
   "metadata": {},
   "outputs": [
    {
     "data": {
      "text/html": [
       "<div>\n",
       "<style scoped>\n",
       "    .dataframe tbody tr th:only-of-type {\n",
       "        vertical-align: middle;\n",
       "    }\n",
       "\n",
       "    .dataframe tbody tr th {\n",
       "        vertical-align: top;\n",
       "    }\n",
       "\n",
       "    .dataframe thead th {\n",
       "        text-align: right;\n",
       "    }\n",
       "</style>\n",
       "<table border=\"1\" class=\"dataframe\">\n",
       "  <thead>\n",
       "    <tr style=\"text-align: right;\">\n",
       "      <th></th>\n",
       "      <th>Unnamed: 0.1</th>\n",
       "      <th>Unnamed: 0</th>\n",
       "      <th>nelements</th>\n",
       "      <th>formula_pretty</th>\n",
       "      <th>volume</th>\n",
       "      <th>formation_energy_per_atom</th>\n",
       "      <th>band_gap</th>\n",
       "    </tr>\n",
       "  </thead>\n",
       "  <tbody>\n",
       "  </tbody>\n",
       "</table>\n",
       "</div>"
      ],
      "text/plain": [
       "Empty DataFrame\n",
       "Columns: [Unnamed: 0.1, Unnamed: 0, nelements, formula_pretty, volume, formation_energy_per_atom, band_gap]\n",
       "Index: []"
      ]
     },
     "execution_count": 4,
     "metadata": {},
     "output_type": "execute_result"
    }
   ],
   "source": [
    "dl[dl[\"formation_energy_per_atom\"]>0]"
   ]
  },
  {
   "cell_type": "code",
   "execution_count": 5,
   "id": "8019a1f0-0076-4f23-9d5e-2bdac744403e",
   "metadata": {},
   "outputs": [
    {
     "data": {
      "text/html": [
       "<div>\n",
       "<style scoped>\n",
       "    .dataframe tbody tr th:only-of-type {\n",
       "        vertical-align: middle;\n",
       "    }\n",
       "\n",
       "    .dataframe tbody tr th {\n",
       "        vertical-align: top;\n",
       "    }\n",
       "\n",
       "    .dataframe thead th {\n",
       "        text-align: right;\n",
       "    }\n",
       "</style>\n",
       "<table border=\"1\" class=\"dataframe\">\n",
       "  <thead>\n",
       "    <tr style=\"text-align: right;\">\n",
       "      <th></th>\n",
       "      <th>Unnamed: 0.1</th>\n",
       "      <th>Unnamed: 0</th>\n",
       "      <th>nelements</th>\n",
       "      <th>formula_pretty</th>\n",
       "      <th>volume</th>\n",
       "      <th>formation_energy_per_atom</th>\n",
       "      <th>band_gap</th>\n",
       "    </tr>\n",
       "  </thead>\n",
       "  <tbody>\n",
       "  </tbody>\n",
       "</table>\n",
       "</div>"
      ],
      "text/plain": [
       "Empty DataFrame\n",
       "Columns: [Unnamed: 0.1, Unnamed: 0, nelements, formula_pretty, volume, formation_energy_per_atom, band_gap]\n",
       "Index: []"
      ]
     },
     "execution_count": 5,
     "metadata": {},
     "output_type": "execute_result"
    }
   ],
   "source": [
    "dl[dl[\"formula_pretty\"]==\"LaNi5H6\"]"
   ]
  },
  {
   "cell_type": "code",
   "execution_count": null,
   "id": "d5fd35d4-986e-49e2-98e1-07ab801d9e5f",
   "metadata": {},
   "outputs": [],
   "source": []
  }
 ],
 "metadata": {
  "kernelspec": {
   "display_name": "Python 3 (ipykernel)",
   "language": "python",
   "name": "python3"
  },
  "language_info": {
   "codemirror_mode": {
    "name": "ipython",
    "version": 3
   },
   "file_extension": ".py",
   "mimetype": "text/x-python",
   "name": "python",
   "nbconvert_exporter": "python",
   "pygments_lexer": "ipython3",
   "version": "3.9.12"
  },
  "widgets": {
   "application/vnd.jupyter.widget-state+json": {
    "state": {},
    "version_major": 2,
    "version_minor": 0
   }
  }
 },
 "nbformat": 4,
 "nbformat_minor": 5
}
